{
 "cells": [
  {
   "cell_type": "markdown",
   "metadata": {},
   "source": [
    "# Airline Analysis"
   ]
  },
  {
   "cell_type": "markdown",
   "metadata": {},
   "source": [
    "In this project, you'll imagine that you work for a travel agency and need to know the ins and outs of airline prices for your clients. You want to make sure that you can find the best deal for your client and help them to understand how airline prices change based on different factors.\n",
    "\n",
    "You decide to look into your favorite airline. The data include:\n",
    "- `miles`: miles traveled through the flight\n",
    "- `passengers`: number of passengers on the flight\n",
    "- `delay`: take-off delay in minutes\n",
    "- `inflight_meal`: is there a meal included in the flight?\n",
    "- `inflight_entertainment`: are there free entertainment systems for each seat?\n",
    "- `inflight_wifi`: is there complimentary wifi on the flight?\n",
    "- `day_of_week`: day of the week of the flight\n",
    "- `weekend`: did this flight take place on a weekend?\n",
    "- `coach_price`: the average price paid for a coach ticket\n",
    "- `firstclass_price`: the average price paid for first-class seats\n",
    "- `hours`: how many hours the flight took\n",
    "- `redeye`: was this flight a redeye (overnight)?\n",
    "\n",
    "In this project, you'll explore a dataset for the first time and get to know each of these features. Keep in mind that there's no one right way to address each of these questions. The goal is simply to explore and get to know the data using whatever methods come to mind.\n",
    "\n",
    "You will be working in this file. Note that there is the file **Airline Analysis_Solution.ipynb** that contains the solution code for this project. We highly recommend that you complete the project on your own without checking the solution, but feel free to take a look if you get stuck or if you want to compare answers when you're done.\n",
    "\n",
    "In order to get the plots to appear correctly in the notebook, you'll need to show and then clear each plot before creating the next one using the following code:\n",
    "\n",
    "```py\n",
    "plt.show() # Show the plot\n",
    "plt.clf() # Clear the plot\n",
    "```\n",
    "\n",
    "Clearing the plot will not erase the plot from view, it will just create a new space for the following graphic."
   ]
  },
  {
   "cell_type": "markdown",
   "metadata": {},
   "source": [
    "## Univariate Analysis"
   ]
  },
  {
   "cell_type": "markdown",
   "metadata": {},
   "source": [
    "1. What do coach ticket prices look like? What are the high and low values? What would be considered the average? Does $500 seem like a good price for a coach ticket?"
   ]
  },
  {
   "cell_type": "code",
   "execution_count": 28,
   "metadata": {},
   "outputs": [
    {
     "name": "stdout",
     "output_type": "stream",
     "text": [
      "   miles  passengers  delay inflight_meal inflight_entertainment  \\\n",
      "0    792         172      0            No                    Yes   \n",
      "1   3163         214      0            No                    Yes   \n",
      "2   1832         212      0            No                    Yes   \n",
      "3    925         213      0            No                    Yes   \n",
      "4    967         217      0           Yes                    Yes   \n",
      "\n",
      "  inflight_wifi day_of_week redeye weekend  coach_price  firstclass_price  \\\n",
      "0           Yes      Sunday    Yes     Yes      338.820           1571.02   \n",
      "1           Yes      Sunday     No     Yes      472.655           1663.70   \n",
      "2            No      Friday     No     Yes      351.960           1429.86   \n",
      "3           Yes    Saturday     No     Yes      387.835           1558.76   \n",
      "4           Yes      Monday     No      No      374.735           1245.58   \n",
      "\n",
      "   hours  \n",
      "0      1  \n",
      "1      6  \n",
      "2      3  \n",
      "3      2  \n",
      "4      2  \n",
      "mean coach price 376.59\n",
      "median coach price 380.56\n",
      "min coach price 44.415\n",
      "max coach price 593.635\n"
     ]
    },
    {
     "data": {
      "image/png": "[encoded data removed]",
      "text/plain": [
       "<Figure size 640x480 with 1 Axes>"
      ]
     },
     "metadata": {},
     "output_type": "display_data"
    },
    {
     "name": "stdout",
     "output_type": "stream",
     "text": [
      "percentile of 500 is 84.23\n"
     ]
    },
    {
     "data": {
      "text/plain": [
       "<Figure size 640x480 with 0 Axes>"
      ]
     },
     "metadata": {},
     "output_type": "display_data"
    }
   ],
   "source": [
    "import pandas as pd\n",
    "import numpy as np\n",
    "import seaborn as sns\n",
    "import statsmodels\n",
    "import matplotlib.pyplot as plt\n",
    "import math\n",
    "\n",
    "## Read in Data\n",
    "flight = pd.read_csv(\"flight.csv\")\n",
    "print(flight.head())\n",
    "\n",
    "## Task 1\n",
    "## min, max and average coach prices\n",
    "mean_age =np.mean(flight.coach_price)\n",
    "median_age=np.median(flight.coach_price)\n",
    "print(\"mean coach price \"+ str(round(mean_age,2)))\n",
    "print(\"median coach price \"+ str(round(median_age,2)))\n",
    "print(\"min coach price \"+ str(np.min(flight.coach_price)))\n",
    "print(\"max coach price \"+ str(np.max(flight.coach_price)))\n",
    "\n",
    "## plot of data\n",
    "sns.histplot(flight.coach_price)\n",
    "\n",
    "plt.axvline(mean_age, color='orange', label='Mean price', linewidth=3)\n",
    "plt.axvline(median_age, color='black', label='Median price', linewidth=3)\n",
    "plt.legend()\n",
    "plt.xlabel('coach prices')\n",
    "plt.show()\n",
    "plt.clf()\n",
    "\n",
    "## percentile 500 lies within:\n",
    "p=500/max(flight.coach_price)*100\n",
    "\n",
    "print('percentile of 500 is '+ str(round(p,2)))\n"
   ]
  },
  {
   "cell_type": "markdown",
   "metadata": {},
   "source": [
    "#### Analysis of task 1:\n",
    "The median and mean of the bus prices are 380.56 and 380.59 respectively. A price of $500 lies in the 84% percentile, meaning that it is significantly more expensive than most bus fares.\n",
    "\n",
    "_That said, prices would vary by times and location and we don't have all the information to consider all of these factors._"
   ]
  },
  {
   "cell_type": "markdown",
   "metadata": {},
   "source": [
    "2. Now visualize the coach ticket prices for flights that are 8 hours long. What are the high, low, and average prices for 8-hour-long flights? Does a $500 dollar ticket seem more reasonable than before?"
   ]
  },
  {
   "cell_type": "code",
   "execution_count": 34,
   "metadata": {},
   "outputs": [
    {
     "name": "stdout",
     "output_type": "stream",
     "text": [
      "mean coach price 431.83\n",
      "median coach price 437.12\n",
      "min coach price 170.77\n",
      "max coach price 593.635\n"
     ]
    },
    {
     "data": {
      "image/png": "[encoded data removed]",
      "text/plain": [
       "<Figure size 640x480 with 1 Axes>"
      ]
     },
     "metadata": {},
     "output_type": "display_data"
    },
    {
     "name": "stdout",
     "output_type": "stream",
     "text": [
      "percentile of $500 for 8 hour flight is 84.23\n"
     ]
    },
    {
     "data": {
      "text/plain": [
       "<Figure size 640x480 with 0 Axes>"
      ]
     },
     "metadata": {},
     "output_type": "display_data"
    }
   ],
   "source": [
    "## Task 2\n",
    "## min, max and average coach prices for 8 hrs\n",
    "prices_8hrs = flight.coach_price[flight.hours==8]\n",
    "mean_age_8hrs =np.mean(prices_8hrs)\n",
    "median_age_8hrs=np.median(prices_8hrs)\n",
    "print(\"mean coach price \"+ str(round(mean_age_8hrs,2)))\n",
    "print(\"median coach price \"+ str(round(median_age_8hrs,2)))\n",
    "print(\"min coach price \"+ str(np.min(prices_8hrs)))\n",
    "print(\"max coach price \"+ str(np.max(prices_8hrs)))\n",
    "\n",
    "## plot of data\n",
    "sns.histplot(prices_8hrs)\n",
    "\n",
    "plt.axvline(mean_age_8hrs, color='orange', label='Mean price', linewidth=3)\n",
    "plt.axvline(median_age_8hrs, color='black', label='Median price', linewidth=3)\n",
    "plt.legend()\n",
    "plt.xlabel('coach prices for 8 hour flights')\n",
    "plt.show()\n",
    "plt.clf()\n",
    "\n",
    "p_8hrs = (500/max(prices_8hrs))*100\n",
    "print('percentile of $500 for 8 hour flight is '+ str(round(p_8hrs,2)))"
   ]
  },
  {
   "cell_type": "markdown",
   "metadata": {},
   "source": [
    "#### Analysis fo task 2:\n",
    "It looks like the average didn't move too much and the $500 is still in the 84th percentile. It still is a bad deal."
   ]
  },
  {
   "cell_type": "markdown",
   "metadata": {},
   "source": [
    "3. How are flight delay times distributed? Let's say there is a short amount of time between two connecting flights, and a flight delay would put the client at risk of missing their connecting flight. You want to better understand how often there are large delays so you can correctly set up connecting flights. What kinds of delays are typical?"
   ]
  },
  {
   "cell_type": "code",
   "execution_count": 4,
   "metadata": {},
   "outputs": [],
   "source": [
    "## Task 3\n",
    "\n"
   ]
  },
  {
   "cell_type": "markdown",
   "metadata": {},
   "source": [
    "## Bivariate Analysis"
   ]
  },
  {
   "cell_type": "markdown",
   "metadata": {},
   "source": [
    "4. Create a visualization that shows the relationship between coach and first-class prices. What is the relationship between these two prices? Do flights with higher coach prices always have higher first-class prices as well?"
   ]
  },
  {
   "cell_type": "code",
   "execution_count": 5,
   "metadata": {},
   "outputs": [],
   "source": [
    "## Task 4\n",
    "\n"
   ]
  },
  {
   "cell_type": "markdown",
   "metadata": {},
   "source": [
    "5. What is the relationship between coach prices and inflight features &mdash; inflight meal, inflight entertainment, and inflight WiFi? Which features are associated with the highest increase in price?"
   ]
  },
  {
   "cell_type": "code",
   "execution_count": 6,
   "metadata": {},
   "outputs": [],
   "source": [
    "## Task 5\n",
    "\n"
   ]
  },
  {
   "cell_type": "markdown",
   "metadata": {},
   "source": [
    "6. How does the number of passengers change in relation to the length of flights?"
   ]
  },
  {
   "cell_type": "code",
   "execution_count": 7,
   "metadata": {},
   "outputs": [],
   "source": [
    "## Task 6\n",
    "\n"
   ]
  },
  {
   "cell_type": "markdown",
   "metadata": {},
   "source": [
    "## Multivariate Analysis"
   ]
  },
  {
   "cell_type": "markdown",
   "metadata": {},
   "source": [
    "7. Visualize the relationship between coach and first-class prices on weekends compared to weekdays."
   ]
  },
  {
   "cell_type": "code",
   "execution_count": 8,
   "metadata": {},
   "outputs": [],
   "source": [
    "## Task 7\n",
    "\n"
   ]
  },
  {
   "cell_type": "markdown",
   "metadata": {},
   "source": [
    "8. How do coach prices differ for redeyes and non-redeyes on each day of the week?"
   ]
  },
  {
   "cell_type": "code",
   "execution_count": 9,
   "metadata": {},
   "outputs": [],
   "source": [
    "## Task 8\n",
    "\n",
    "\n",
    "\n",
    "\n"
   ]
  },
  {
   "cell_type": "code",
   "execution_count": null,
   "metadata": {},
   "outputs": [],
   "source": []
  }
 ],
 "metadata": {
  "kernelspec": {
   "display_name": "Python 3 (ipykernel)",
   "language": "python",
   "name": "python3"
  },
  "language_info": {
   "codemirror_mode": {
    "name": "ipython",
    "version": 3
   },
   "file_extension": ".py",
   "mimetype": "text/x-python",
   "name": "python",
   "nbconvert_exporter": "python",
   "pygments_lexer": "ipython3",
   "version": "3.10.11"
  }
 },
 "nbformat": 4,
 "nbformat_minor": 2
}
